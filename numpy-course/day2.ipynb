{
 "cells": [
  {
   "cell_type": "code",
   "execution_count": null,
   "metadata": {},
   "outputs": [],
   "source": [
    "import numpy as np\n",
    "\n",
    "\n",
    "# np.linspace(1,5,num=4)\n",
    "\n",
    "# np.arange(1,10,2)\n",
    "\n",
    "# range(10)\n",
    "\n",
    "# np.zeros(10)\n",
    "# np.ones(10)\n",
    "\n",
    "# data =np.array([1,2,3],dtype=np.int32)\n",
    "# data\n",
    "\n",
    "\n",
    "# data = np.array(12)\n",
    "# data\n",
    "\n",
    "# data=np.array([1,2,3,4,5])\n",
    "# data[2]\n",
    "\n",
    "# data = np.array([1,2,3,4,5,6,7,8,9,10,12])\n",
    "# even =[]\n",
    "# for x in data:\n",
    "#     if x%2==0:\n",
    "#         even.append(x)\n",
    "# even\n",
    "# get even numbers\n",
    "# data[1::2]\n",
    "# for x in data:\n",
    "#     print(x)\n",
    "\n",
    "# np.linspace(1,10,num=4,endpoint=False)\n",
    "\n",
    "# data = np.array([5,43,3,4,16,7,8,9,10,12,'ram','anil'])\n",
    "# data.sort()\n",
    "# data\n",
    "\n",
    "# data = np.array([5,43,3,4,16,7,8,9,10,12])\n",
    "# data1 = np.array([5,43,3,4,16,7,8,9,10,12])\n",
    "# data2 = np.array([5,43,3,4,16,7,8,9,10,12])\n",
    "# data +data1 +data2\n",
    "\n",
    "# np.concatenate((data,data1,data2))\n"
   ]
  },
  {
   "cell_type": "code",
   "execution_count": null,
   "metadata": {},
   "outputs": [],
   "source": [
    "\n",
    "# array_example = np.array([\n",
    "#     [\n",
    "#         [0, 1, 2, 3],\n",
    "#         [4, 5, 6, 7]\n",
    "#     ],\n",
    "\n",
    "#     [\n",
    "#         [0, 1, 2, 3],\n",
    "#         [4, 5, 6, 7]\n",
    "#     ],\n",
    "\n",
    "#     [\n",
    "#         [0 ,1 ,2, 3],\n",
    "#         [4, 5, 6, 7]\n",
    "#     ]\n",
    "    \n",
    "#     ])\n",
    "\n",
    "# array_example.shape\n",
    "# array_example.size\n",
    "# array_example.ndim\n",
    "# array_example.dtype\n",
    "# array_example.itemsize\n",
    "# array_example.data\n",
    "\n",
    "\n",
    "# data=np.array([1,2,3,4,5,6,7,8,9,10,12,13])\n",
    "# a=(data>5) & (data<10)\n",
    "# data=data[a]\n",
    "# data\n",
    "# data[a]\n",
    "# data[data%2==0]\n",
    "# data[data%2!=0]\n",
    "# data[data<5]\n",
    "# reshape\n",
    "# data.reshape(2,6)\n",
    "# data.reshape(2,2,3)"
   ]
  },
  {
   "cell_type": "code",
   "execution_count": null,
   "metadata": {},
   "outputs": [],
   "source": [
    "# a1 = np.array([[1, 1],\n",
    "#                [2, 2]])\n",
    "\n",
    "# a2 = np.array([[3, 3],\n",
    "#                [4, 4]])\n",
    "\n",
    "# np.vstack((a1,a2))\n",
    "# np.hstack((a1,a2))"
   ]
  },
  {
   "cell_type": "code",
   "execution_count": 71,
   "metadata": {},
   "outputs": [],
   "source": [
    "# data=np.array([1,2,3,4,5,6,7,8,9,10,12,13,1,2,1,13])\n",
    "# np.unique(data)\n"
   ]
  },
  {
   "cell_type": "code",
   "execution_count": null,
   "metadata": {},
   "outputs": [],
   "source": []
  }
 ],
 "metadata": {
  "kernelspec": {
   "display_name": "Python 3",
   "language": "python",
   "name": "python3"
  },
  "language_info": {
   "codemirror_mode": {
    "name": "ipython",
    "version": 3
   },
   "file_extension": ".py",
   "mimetype": "text/x-python",
   "name": "python",
   "nbconvert_exporter": "python",
   "pygments_lexer": "ipython3",
   "version": "3.11.2"
  },
  "orig_nbformat": 4
 },
 "nbformat": 4,
 "nbformat_minor": 2
}
