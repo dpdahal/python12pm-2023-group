{
 "cells": [
  {
   "cell_type": "code",
   "execution_count": 2,
   "metadata": {},
   "outputs": [],
   "source": [
    "import numpy as np\n",
    "\n",
    "# different between np.copy() and np.view()\n",
    "# np.copy() will create a new array and copy the data\n",
    "# np.view() will create a new array and share the data\n",
    "\n",
    "# data = np.array([1,2,3,4,5])\n",
    "# # nData = data.copy()\n",
    "# nData = data.view()\n",
    "# data[0] = 100\n",
    "\n",
    "# nData\n",
    "\n",
    "\n",
    "# arr = np.array([\n",
    "#     [1,2,3,4],\n",
    "#     [5,6,7,8],\n",
    "#     [9,10,11,12],\n",
    "#     [13,14,15,16]\n",
    "#     ])\n",
    "\n",
    "# for num in np.nditer(arr):\n",
    "#     print(num)\n",
    "\n",
    "# for x in arr:\n",
    "#     for y in x:\n",
    "#         print(y)\n",
    "\n",
    "# newarr = arr.reshape(4, 3)\n",
    "# newarr"
   ]
  },
  {
   "cell_type": "code",
   "execution_count": 3,
   "metadata": {},
   "outputs": [],
   "source": [
    "# n1 =np.array([1,2,3,4,60])\n",
    "# n2 =np.array([6,7,8,9,10])\n",
    "# n3 = np.concatenate((n1, n2))\n",
    "# n3\n",
    "# stack: 1. horizontal stack 2. vertical stack\n",
    "# n3 = np.hstack((n1, n2))\n",
    "# n3 = np.vstack((n1, n2))\n",
    "# n3 = np.stack((n1, n2), axis=1)\n",
    "# n3\n",
    "\n",
    "# split: 1. horizontal split 2. vertical split\n",
    "# np.array([1,2,3,4,5,6,7,8,9,10,11,12]).reshape(4,3)\n",
    "# data =np.array([1,2,3,4,5,6,7,8,9,10,11,12,13])\n",
    "# n3 = np.split(data, 3)\n",
    "# n3\n",
    "\n",
    "# data =[1,2,3]\n",
    "# n1, n2, n3 = data\n",
    "# a=data[0]"
   ]
  },
  {
   "cell_type": "markdown",
   "metadata": {},
   "source": []
  },
  {
   "cell_type": "code",
   "execution_count": 5,
   "metadata": {},
   "outputs": [
    {
     "data": {
      "text/plain": [
       "array([ 6,  7,  8,  9, 10])"
      ]
     },
     "execution_count": 5,
     "metadata": {},
     "output_type": "execute_result"
    }
   ],
   "source": [
    "data =np.array([1,2,3,4,5,6,7,8,9,10])\n",
    "res = data[data>5]\n",
    "res\n",
    "# x=np.searchsorted(data, 2,side='right')\n",
    "# x\n",
    "# np.where(data%2 == 0, 'even', 'odd')\n",
    "\n",
    "# search where is the value\n",
    "# n3 = np.where(data == 8)\n",
    "# n3\n",
    "# even = np.where(data%2 == 0)\n",
    "# odd = np.where(data%2 == 1)\n",
    "# odd\n",
    "\n",
    "# \n",
    "\n"
   ]
  },
  {
   "cell_type": "code",
   "execution_count": null,
   "metadata": {},
   "outputs": [],
   "source": []
  }
 ],
 "metadata": {
  "kernelspec": {
   "display_name": "Python 3",
   "language": "python",
   "name": "python3"
  },
  "language_info": {
   "codemirror_mode": {
    "name": "ipython",
    "version": 3
   },
   "file_extension": ".py",
   "mimetype": "text/x-python",
   "name": "python",
   "nbconvert_exporter": "python",
   "pygments_lexer": "ipython3",
   "version": "3.11.2"
  },
  "orig_nbformat": 4
 },
 "nbformat": 4,
 "nbformat_minor": 2
}
